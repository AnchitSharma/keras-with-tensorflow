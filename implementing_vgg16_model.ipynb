{
  "nbformat": 4,
  "nbformat_minor": 0,
  "metadata": {
    "colab": {
      "name": "implementing vgg16 model.ipynb",
      "provenance": [],
      "collapsed_sections": []
    },
    "kernelspec": {
      "name": "python3",
      "display_name": "Python 3"
    }
  },
  "cells": [
    {
      "cell_type": "code",
      "metadata": {
        "id": "qpA0JHQ3_tqf",
        "colab_type": "code",
        "colab": {}
      },
      "source": [
        "import numpy as np"
      ],
      "execution_count": null,
      "outputs": []
    },
    {
      "cell_type": "code",
      "metadata": {
        "id": "RKJdpH0Z_7sz",
        "colab_type": "code",
        "colab": {
          "base_uri": "https://localhost:8080/",
          "height": 122
        },
        "outputId": "e891203d-cf58-4883-9d2a-927e3bd4a78a"
      },
      "source": [
        "from google.colab import drive\n",
        "drive.mount('/content/gdrive')"
      ],
      "execution_count": null,
      "outputs": [
        {
          "output_type": "stream",
          "text": [
            "Go to this URL in a browser: https://accounts.google.com/o/oauth2/auth?client_id=947318989803-6bn6qk8qdgf4n4g3pfee6491hc0brc4i.apps.googleusercontent.com&redirect_uri=urn%3aietf%3awg%3aoauth%3a2.0%3aoob&scope=email%20https%3a%2f%2fwww.googleapis.com%2fauth%2fdocs.test%20https%3a%2f%2fwww.googleapis.com%2fauth%2fdrive%20https%3a%2f%2fwww.googleapis.com%2fauth%2fdrive.photos.readonly%20https%3a%2f%2fwww.googleapis.com%2fauth%2fpeopleapi.readonly&response_type=code\n",
            "\n",
            "Enter your authorization code:\n",
            "··········\n",
            "Mounted at /content/gdrive\n"
          ],
          "name": "stdout"
        }
      ]
    },
    {
      "cell_type": "code",
      "metadata": {
        "id": "yDanw7SHAB5_",
        "colab_type": "code",
        "colab": {}
      },
      "source": [
        "IMAGE_SIZE = 128"
      ],
      "execution_count": null,
      "outputs": []
    },
    {
      "cell_type": "code",
      "metadata": {
        "id": "4TsIR9-LAJsm",
        "colab_type": "code",
        "colab": {}
      },
      "source": [
        "file1 = \"Cat_Dog_Train_Data_128X128_1.npy\"\n",
        "file2 = \"Cat_Dog_Train_Data_128X128_2.npy\"\n",
        "file3 = \"Cat_Dog_Train_Data_128X128_3.npy\"\n",
        "file4 = \"Cat_Dog_Train_Data_128X128_4.npy\"\n",
        "file6 = \"Cat_Dog_Train_Data_128X128_5.npy\"\n",
        "file5 = \"Cat_Dog_Train_Data_128X128_6.npy\"\n",
        "#path = f\"/content/gdrive/My Drive/models/dogs-vs-cats/{file_name}\""
      ],
      "execution_count": null,
      "outputs": []
    },
    {
      "cell_type": "code",
      "metadata": {
        "id": "q2JJOWWHAN-R",
        "colab_type": "code",
        "colab": {}
      },
      "source": [
        "train_data_1 = np.load(f\"/content/gdrive/My Drive/models/dogs-vs-cats/{file1}\", allow_pickle=True)\n",
        "train_data_2 = np.load(f\"/content/gdrive/My Drive/models/dogs-vs-cats/{file2}\", allow_pickle=True)\n",
        "train_data_3 = np.load(f\"/content/gdrive/My Drive/models/dogs-vs-cats/{file3}\", allow_pickle=True)\n",
        "train_data_4 = np.load(f\"/content/gdrive/My Drive/models/dogs-vs-cats/{file4}\", allow_pickle=True)\n",
        "test_data = np.load(f\"/content/gdrive/My Drive/models/dogs-vs-cats/{file6}\", allow_pickle=True)\n",
        "test_data_1 = np.load(f\"/content/gdrive/My Drive/models/dogs-vs-cats/{file5}\", allow_pickle=True)"
      ],
      "execution_count": null,
      "outputs": []
    },
    {
      "cell_type": "code",
      "metadata": {
        "id": "VxHp-hXuASef",
        "colab_type": "code",
        "colab": {
          "base_uri": "https://localhost:8080/",
          "height": 34
        },
        "outputId": "dbf9e5b0-81b9-4da4-d58e-d9fbdc1a7ab8"
      },
      "source": [
        "train_data = np.concatenate((train_data_1, train_data_2, train_data_3, train_data_4))\n",
        "train_data.shape"
      ],
      "execution_count": null,
      "outputs": [
        {
          "output_type": "execute_result",
          "data": {
            "text/plain": [
              "(2000, 2)"
            ]
          },
          "metadata": {
            "tags": []
          },
          "execution_count": 9
        }
      ]
    },
    {
      "cell_type": "code",
      "metadata": {
        "id": "wQ8TGDk2hJa3",
        "colab_type": "code",
        "colab": {
          "base_uri": "https://localhost:8080/",
          "height": 34
        },
        "outputId": "cd0fa48f-5768-4fa7-f476-083a7742b411"
      },
      "source": [
        "test_data.shape"
      ],
      "execution_count": null,
      "outputs": [
        {
          "output_type": "execute_result",
          "data": {
            "text/plain": [
              "(500, 2)"
            ]
          },
          "metadata": {
            "tags": []
          },
          "execution_count": 10
        }
      ]
    },
    {
      "cell_type": "code",
      "metadata": {
        "id": "9g5tzZq_AXNO",
        "colab_type": "code",
        "colab": {}
      },
      "source": [
        "import tensorflow as tf\n",
        "from tensorflow import keras\n",
        "from tensorflow.keras.models import Sequential\n",
        "from tensorflow.keras.layers import Activation, Dense,Input,Flatten, BatchNormalization,Conv2D, MaxPool2D\n",
        "from tensorflow.keras.optimizers import Adam\n",
        "from tensorflow.keras.metrics import categorical_crossentropy\n",
        "from tensorflow.keras.preprocessing.image import ImageDataGenerator\n",
        "from sklearn.metrics import confusion_matrix\n",
        "import itertools\n",
        "import random\n",
        "import matplotlib.pyplot as plt"
      ],
      "execution_count": null,
      "outputs": []
    },
    {
      "cell_type": "code",
      "metadata": {
        "id": "xikP9AOHAgHA",
        "colab_type": "code",
        "colab": {}
      },
      "source": [
        "X_train = np.array([i[0] for i in train_data])\n",
        "X_train = X_train.reshape(-1, IMAGE_SIZE, IMAGE_SIZE, 3)\n",
        "y_train = np.array([i[1] for i in train_data])\n",
        "\n",
        "\n",
        "X_test = np.array([i[0] for i in test_data])\n",
        "X_test = X_test.reshape(-1, IMAGE_SIZE, IMAGE_SIZE, 3)\n",
        "y_test = np.array([i[1] for i in test_data])\n",
        "\n",
        "# #test_data_1 test_data_1\n",
        "X_test_1 = np.array([i[0] for i in test_data_1])\n",
        "X_test_1 = X_test_1.reshape(-1, IMAGE_SIZE, IMAGE_SIZE, 3)\n",
        "y_test_1 = np.array([i[1] for i in test_data_1])"
      ],
      "execution_count": null,
      "outputs": []
    },
    {
      "cell_type": "code",
      "metadata": {
        "id": "lKho-OThIXY3",
        "colab_type": "code",
        "colab": {
          "base_uri": "https://localhost:8080/",
          "height": 34
        },
        "outputId": "6fb28dfe-4872-4fc0-af21-7f05fb2f2fa4"
      },
      "source": [
        "X_train.shape\n",
        "X_test.shape"
      ],
      "execution_count": null,
      "outputs": [
        {
          "output_type": "execute_result",
          "data": {
            "text/plain": [
              "(500, 128, 128, 3)"
            ]
          },
          "metadata": {
            "tags": []
          },
          "execution_count": 9
        }
      ]
    },
    {
      "cell_type": "code",
      "metadata": {
        "id": "hvJSix-EAtVG",
        "colab_type": "code",
        "colab": {}
      },
      "source": [
        "vgg16_model = tf.keras.applications.vgg16.VGG16(weights=\"imagenet\", include_top=False, input_tensor=Input(shape=(IMAGE_SIZE, IMAGE_SIZE, 3)))"
      ],
      "execution_count": null,
      "outputs": []
    },
    {
      "cell_type": "code",
      "metadata": {
        "id": "oJ_jPmctIr75",
        "colab_type": "code",
        "colab": {
          "base_uri": "https://localhost:8080/",
          "height": 799
        },
        "outputId": "db83588c-b63c-48b7-9173-3bd200e3b8e0"
      },
      "source": [
        "vgg16_model.summary()"
      ],
      "execution_count": null,
      "outputs": [
        {
          "output_type": "stream",
          "text": [
            "Model: \"vgg16\"\n",
            "_________________________________________________________________\n",
            "Layer (type)                 Output Shape              Param #   \n",
            "=================================================================\n",
            "input_9 (InputLayer)         [(None, 128, 128, 3)]     0         \n",
            "_________________________________________________________________\n",
            "block1_conv1 (Conv2D)        (None, 128, 128, 64)      1792      \n",
            "_________________________________________________________________\n",
            "block1_conv2 (Conv2D)        (None, 128, 128, 64)      36928     \n",
            "_________________________________________________________________\n",
            "block1_pool (MaxPooling2D)   (None, 64, 64, 64)        0         \n",
            "_________________________________________________________________\n",
            "block2_conv1 (Conv2D)        (None, 64, 64, 128)       73856     \n",
            "_________________________________________________________________\n",
            "block2_conv2 (Conv2D)        (None, 64, 64, 128)       147584    \n",
            "_________________________________________________________________\n",
            "block2_pool (MaxPooling2D)   (None, 32, 32, 128)       0         \n",
            "_________________________________________________________________\n",
            "block3_conv1 (Conv2D)        (None, 32, 32, 256)       295168    \n",
            "_________________________________________________________________\n",
            "block3_conv2 (Conv2D)        (None, 32, 32, 256)       590080    \n",
            "_________________________________________________________________\n",
            "block3_conv3 (Conv2D)        (None, 32, 32, 256)       590080    \n",
            "_________________________________________________________________\n",
            "block3_pool (MaxPooling2D)   (None, 16, 16, 256)       0         \n",
            "_________________________________________________________________\n",
            "block4_conv1 (Conv2D)        (None, 16, 16, 512)       1180160   \n",
            "_________________________________________________________________\n",
            "block4_conv2 (Conv2D)        (None, 16, 16, 512)       2359808   \n",
            "_________________________________________________________________\n",
            "block4_conv3 (Conv2D)        (None, 16, 16, 512)       2359808   \n",
            "_________________________________________________________________\n",
            "block4_pool (MaxPooling2D)   (None, 8, 8, 512)         0         \n",
            "_________________________________________________________________\n",
            "block5_conv1 (Conv2D)        (None, 8, 8, 512)         2359808   \n",
            "_________________________________________________________________\n",
            "block5_conv2 (Conv2D)        (None, 8, 8, 512)         2359808   \n",
            "_________________________________________________________________\n",
            "block5_conv3 (Conv2D)        (None, 8, 8, 512)         2359808   \n",
            "_________________________________________________________________\n",
            "block5_pool (MaxPooling2D)   (None, 4, 4, 512)         0         \n",
            "=================================================================\n",
            "Total params: 14,714,688\n",
            "Trainable params: 14,714,688\n",
            "Non-trainable params: 0\n",
            "_________________________________________________________________\n"
          ],
          "name": "stdout"
        }
      ]
    },
    {
      "cell_type": "code",
      "metadata": {
        "id": "t_Q1qCQeCEgH",
        "colab_type": "code",
        "colab": {}
      },
      "source": [
        "model = Sequential()\n",
        "#model.add(Conv2D(3, (3, 3), activation='relu', input_shape=X_train[0].shape))\n",
        "for layer in vgg16_model.layers[:-1]:\n",
        "  model.add(layer)"
      ],
      "execution_count": null,
      "outputs": []
    },
    {
      "cell_type": "code",
      "metadata": {
        "id": "XcCBn74DFjc9",
        "colab_type": "code",
        "colab": {
          "base_uri": "https://localhost:8080/",
          "height": 34
        },
        "outputId": "9e3ba11f-a6a5-4074-d898-0d4d6df811c9"
      },
      "source": [
        "X_train[0].shape"
      ],
      "execution_count": null,
      "outputs": [
        {
          "output_type": "execute_result",
          "data": {
            "text/plain": [
              "(128, 128, 3)"
            ]
          },
          "metadata": {
            "tags": []
          },
          "execution_count": 63
        }
      ]
    },
    {
      "cell_type": "code",
      "metadata": {
        "id": "TQyoY7x6BtTI",
        "colab_type": "code",
        "colab": {
          "base_uri": "https://localhost:8080/",
          "height": 731
        },
        "outputId": "696a61cc-71a5-457b-88f9-5522b1607e18"
      },
      "source": [
        "model.summary()"
      ],
      "execution_count": null,
      "outputs": [
        {
          "output_type": "stream",
          "text": [
            "Model: \"sequential_10\"\n",
            "_________________________________________________________________\n",
            "Layer (type)                 Output Shape              Param #   \n",
            "=================================================================\n",
            "block1_conv1 (Conv2D)        (None, 128, 128, 64)      1792      \n",
            "_________________________________________________________________\n",
            "block1_conv2 (Conv2D)        (None, 128, 128, 64)      36928     \n",
            "_________________________________________________________________\n",
            "block1_pool (MaxPooling2D)   (None, 64, 64, 64)        0         \n",
            "_________________________________________________________________\n",
            "block2_conv1 (Conv2D)        (None, 64, 64, 128)       73856     \n",
            "_________________________________________________________________\n",
            "block2_conv2 (Conv2D)        (None, 64, 64, 128)       147584    \n",
            "_________________________________________________________________\n",
            "block2_pool (MaxPooling2D)   (None, 32, 32, 128)       0         \n",
            "_________________________________________________________________\n",
            "block3_conv1 (Conv2D)        (None, 32, 32, 256)       295168    \n",
            "_________________________________________________________________\n",
            "block3_conv2 (Conv2D)        (None, 32, 32, 256)       590080    \n",
            "_________________________________________________________________\n",
            "block3_conv3 (Conv2D)        (None, 32, 32, 256)       590080    \n",
            "_________________________________________________________________\n",
            "block3_pool (MaxPooling2D)   (None, 16, 16, 256)       0         \n",
            "_________________________________________________________________\n",
            "block4_conv1 (Conv2D)        (None, 16, 16, 512)       1180160   \n",
            "_________________________________________________________________\n",
            "block4_conv2 (Conv2D)        (None, 16, 16, 512)       2359808   \n",
            "_________________________________________________________________\n",
            "block4_conv3 (Conv2D)        (None, 16, 16, 512)       2359808   \n",
            "_________________________________________________________________\n",
            "block4_pool (MaxPooling2D)   (None, 8, 8, 512)         0         \n",
            "_________________________________________________________________\n",
            "block5_conv1 (Conv2D)        (None, 8, 8, 512)         2359808   \n",
            "_________________________________________________________________\n",
            "block5_conv2 (Conv2D)        (None, 8, 8, 512)         2359808   \n",
            "_________________________________________________________________\n",
            "block5_conv3 (Conv2D)        (None, 8, 8, 512)         2359808   \n",
            "=================================================================\n",
            "Total params: 14,714,688\n",
            "Trainable params: 14,714,688\n",
            "Non-trainable params: 0\n",
            "_________________________________________________________________\n"
          ],
          "name": "stdout"
        }
      ]
    },
    {
      "cell_type": "code",
      "metadata": {
        "id": "jJEE-4zeCHSc",
        "colab_type": "code",
        "colab": {}
      },
      "source": [
        "for layer in model.layers:\n",
        "  layer.trainable = False"
      ],
      "execution_count": null,
      "outputs": []
    },
    {
      "cell_type": "code",
      "metadata": {
        "id": "gWA5ropxGxU6",
        "colab_type": "code",
        "colab": {}
      },
      "source": [
        "#model.add(Dense(units=2, activation='softmax'))"
      ],
      "execution_count": null,
      "outputs": []
    },
    {
      "cell_type": "code",
      "metadata": {
        "id": "_QpfzXHzCLEi",
        "colab_type": "code",
        "colab": {}
      },
      "source": [
        "#model.add(conv2d())\n",
        "model.add(Flatten())\n",
        "model.add(Dense(2, activation='relu'))\n",
        "#model.add(Dropout(0.5))\n",
        "model.add(Dense(units=2, activation='softmax'))"
      ],
      "execution_count": null,
      "outputs": []
    },
    {
      "cell_type": "code",
      "metadata": {
        "id": "ZQWCAspakTLu",
        "colab_type": "code",
        "colab": {
          "base_uri": "https://localhost:8080/",
          "height": 833
        },
        "outputId": "c7150827-07f3-4fd0-ccb1-19410545f7a1"
      },
      "source": [
        "model.summary()"
      ],
      "execution_count": null,
      "outputs": [
        {
          "output_type": "stream",
          "text": [
            "Model: \"sequential_10\"\n",
            "_________________________________________________________________\n",
            "Layer (type)                 Output Shape              Param #   \n",
            "=================================================================\n",
            "block1_conv1 (Conv2D)        (None, 128, 128, 64)      1792      \n",
            "_________________________________________________________________\n",
            "block1_conv2 (Conv2D)        (None, 128, 128, 64)      36928     \n",
            "_________________________________________________________________\n",
            "block1_pool (MaxPooling2D)   (None, 64, 64, 64)        0         \n",
            "_________________________________________________________________\n",
            "block2_conv1 (Conv2D)        (None, 64, 64, 128)       73856     \n",
            "_________________________________________________________________\n",
            "block2_conv2 (Conv2D)        (None, 64, 64, 128)       147584    \n",
            "_________________________________________________________________\n",
            "block2_pool (MaxPooling2D)   (None, 32, 32, 128)       0         \n",
            "_________________________________________________________________\n",
            "block3_conv1 (Conv2D)        (None, 32, 32, 256)       295168    \n",
            "_________________________________________________________________\n",
            "block3_conv2 (Conv2D)        (None, 32, 32, 256)       590080    \n",
            "_________________________________________________________________\n",
            "block3_conv3 (Conv2D)        (None, 32, 32, 256)       590080    \n",
            "_________________________________________________________________\n",
            "block3_pool (MaxPooling2D)   (None, 16, 16, 256)       0         \n",
            "_________________________________________________________________\n",
            "block4_conv1 (Conv2D)        (None, 16, 16, 512)       1180160   \n",
            "_________________________________________________________________\n",
            "block4_conv2 (Conv2D)        (None, 16, 16, 512)       2359808   \n",
            "_________________________________________________________________\n",
            "block4_conv3 (Conv2D)        (None, 16, 16, 512)       2359808   \n",
            "_________________________________________________________________\n",
            "block4_pool (MaxPooling2D)   (None, 8, 8, 512)         0         \n",
            "_________________________________________________________________\n",
            "block5_conv1 (Conv2D)        (None, 8, 8, 512)         2359808   \n",
            "_________________________________________________________________\n",
            "block5_conv2 (Conv2D)        (None, 8, 8, 512)         2359808   \n",
            "_________________________________________________________________\n",
            "block5_conv3 (Conv2D)        (None, 8, 8, 512)         2359808   \n",
            "_________________________________________________________________\n",
            "flatten_3 (Flatten)          (None, 32768)             0         \n",
            "_________________________________________________________________\n",
            "dense_6 (Dense)              (None, 2)                 65538     \n",
            "_________________________________________________________________\n",
            "dense_7 (Dense)              (None, 2)                 6         \n",
            "=================================================================\n",
            "Total params: 14,780,232\n",
            "Trainable params: 65,544\n",
            "Non-trainable params: 14,714,688\n",
            "_________________________________________________________________\n"
          ],
          "name": "stdout"
        }
      ]
    },
    {
      "cell_type": "code",
      "metadata": {
        "id": "yYHA8LMZCPNx",
        "colab_type": "code",
        "colab": {}
      },
      "source": [
        "model.compile(optimizer=Adam(learning_rate=0.0001), loss='categorical_crossentropy', metrics=['accuracy'])#categorical_crossentropy"
      ],
      "execution_count": null,
      "outputs": []
    },
    {
      "cell_type": "code",
      "metadata": {
        "id": "DnPG7ClJCSto",
        "colab_type": "code",
        "colab": {
          "base_uri": "https://localhost:8080/",
          "height": 884
        },
        "outputId": "ed36abac-1459-48e1-8f6e-60337747d36d"
      },
      "source": [
        "model.fit(x=X_train, y= y_train, batch_size=1000, epochs=25, verbose=2, validation_data=(X_test, y_test))"
      ],
      "execution_count": null,
      "outputs": [
        {
          "output_type": "stream",
          "text": [
            "Epoch 1/25\n",
            "2/2 - 253s - loss: 0.6948 - accuracy: 0.5040 - val_loss: 0.6901 - val_accuracy: 0.4880\n",
            "Epoch 2/25\n",
            "2/2 - 249s - loss: 0.6816 - accuracy: 0.5465 - val_loss: 0.6738 - val_accuracy: 0.6400\n",
            "Epoch 3/25\n",
            "2/2 - 254s - loss: 0.6661 - accuracy: 0.6590 - val_loss: 0.6592 - val_accuracy: 0.6600\n",
            "Epoch 4/25\n",
            "2/2 - 256s - loss: 0.6506 - accuracy: 0.6750 - val_loss: 0.6441 - val_accuracy: 0.6900\n",
            "Epoch 5/25\n",
            "2/2 - 256s - loss: 0.6324 - accuracy: 0.7210 - val_loss: 0.6292 - val_accuracy: 0.7540\n",
            "Epoch 6/25\n",
            "2/2 - 261s - loss: 0.6142 - accuracy: 0.7800 - val_loss: 0.6165 - val_accuracy: 0.7580\n",
            "Epoch 7/25\n",
            "2/2 - 251s - loss: 0.5981 - accuracy: 0.8080 - val_loss: 0.6030 - val_accuracy: 0.7740\n",
            "Epoch 8/25\n",
            "2/2 - 255s - loss: 0.5819 - accuracy: 0.8140 - val_loss: 0.5891 - val_accuracy: 0.7880\n",
            "Epoch 9/25\n",
            "2/2 - 255s - loss: 0.5662 - accuracy: 0.8180 - val_loss: 0.5763 - val_accuracy: 0.7940\n",
            "Epoch 10/25\n",
            "2/2 - 257s - loss: 0.5519 - accuracy: 0.8210 - val_loss: 0.5646 - val_accuracy: 0.8040\n",
            "Epoch 11/25\n",
            "2/2 - 251s - loss: 0.5382 - accuracy: 0.8230 - val_loss: 0.5537 - val_accuracy: 0.8040\n",
            "Epoch 12/25\n",
            "2/2 - 252s - loss: 0.5250 - accuracy: 0.8285 - val_loss: 0.5437 - val_accuracy: 0.8200\n",
            "Epoch 13/25\n",
            "2/2 - 257s - loss: 0.5124 - accuracy: 0.8375 - val_loss: 0.5344 - val_accuracy: 0.8180\n",
            "Epoch 14/25\n",
            "2/2 - 256s - loss: 0.5009 - accuracy: 0.8430 - val_loss: 0.5254 - val_accuracy: 0.8220\n",
            "Epoch 15/25\n",
            "2/2 - 257s - loss: 0.4897 - accuracy: 0.8420 - val_loss: 0.5167 - val_accuracy: 0.8240\n",
            "Epoch 16/25\n",
            "2/2 - 257s - loss: 0.4791 - accuracy: 0.8430 - val_loss: 0.5083 - val_accuracy: 0.8240\n",
            "Epoch 17/25\n",
            "2/2 - 256s - loss: 0.4692 - accuracy: 0.8465 - val_loss: 0.5006 - val_accuracy: 0.8260\n",
            "Epoch 18/25\n",
            "2/2 - 257s - loss: 0.4599 - accuracy: 0.8490 - val_loss: 0.4934 - val_accuracy: 0.8300\n",
            "Epoch 19/25\n",
            "2/2 - 253s - loss: 0.4510 - accuracy: 0.8505 - val_loss: 0.4868 - val_accuracy: 0.8340\n",
            "Epoch 20/25\n",
            "2/2 - 252s - loss: 0.4426 - accuracy: 0.8530 - val_loss: 0.4807 - val_accuracy: 0.8280\n",
            "Epoch 21/25\n",
            "2/2 - 270s - loss: 0.4346 - accuracy: 0.8555 - val_loss: 0.4751 - val_accuracy: 0.8320\n",
            "Epoch 22/25\n",
            "2/2 - 256s - loss: 0.4271 - accuracy: 0.8550 - val_loss: 0.4697 - val_accuracy: 0.8320\n",
            "Epoch 23/25\n",
            "2/2 - 254s - loss: 0.4200 - accuracy: 0.8565 - val_loss: 0.4643 - val_accuracy: 0.8320\n",
            "Epoch 24/25\n",
            "2/2 - 256s - loss: 0.4130 - accuracy: 0.8600 - val_loss: 0.4592 - val_accuracy: 0.8340\n",
            "Epoch 25/25\n",
            "2/2 - 254s - loss: 0.4066 - accuracy: 0.8615 - val_loss: 0.4542 - val_accuracy: 0.8380\n"
          ],
          "name": "stdout"
        },
        {
          "output_type": "execute_result",
          "data": {
            "text/plain": [
              "<tensorflow.python.keras.callbacks.History at 0x7fe1bd57b630>"
            ]
          },
          "metadata": {
            "tags": []
          },
          "execution_count": 70
        }
      ]
    },
    {
      "cell_type": "code",
      "metadata": {
        "id": "18O_hUCHjvPF",
        "colab_type": "code",
        "colab": {}
      },
      "source": [
        "import os\n",
        "path = \"/content/gdrive/My Drive/models/cat_vs_dog_classifier_128X128.h5\"\n",
        "if os.path.isfile(path) is False:\n",
        "  model.save(path)"
      ],
      "execution_count": null,
      "outputs": []
    },
    {
      "cell_type": "code",
      "metadata": {
        "id": "u2WOSENJ1LU4",
        "colab_type": "code",
        "colab": {}
      },
      "source": [
        "from tensorflow.keras.models import load_model\n",
        "path = \"/content/gdrive/My Drive/models/cat_vs_dog_classifier_128X128.h5\"\n",
        "new_model = load_model(path)"
      ],
      "execution_count": null,
      "outputs": []
    },
    {
      "cell_type": "code",
      "metadata": {
        "id": "PpTpsd3wusZB",
        "colab_type": "code",
        "colab": {}
      },
      "source": [
        "predictions = new_model.predict(x=X_test_1, verbose=0)"
      ],
      "execution_count": null,
      "outputs": []
    },
    {
      "cell_type": "code",
      "metadata": {
        "id": "92T9jb5huwb-",
        "colab_type": "code",
        "colab": {
          "base_uri": "https://localhost:8080/",
          "height": 102
        },
        "outputId": "8240345a-9018-4b5e-b747-6d962a038b73"
      },
      "source": [
        "predictions[:5]"
      ],
      "execution_count": null,
      "outputs": [
        {
          "output_type": "execute_result",
          "data": {
            "text/plain": [
              "array([[0.2752476 , 0.72475237],\n",
              "       [0.52680767, 0.47319236],\n",
              "       [0.59550464, 0.40449536],\n",
              "       [0.564457  , 0.435543  ],\n",
              "       [0.231743  , 0.7682571 ]], dtype=float32)"
            ]
          },
          "metadata": {
            "tags": []
          },
          "execution_count": 16
        }
      ]
    },
    {
      "cell_type": "code",
      "metadata": {
        "id": "lt66IfUUvs_e",
        "colab_type": "code",
        "colab": {}
      },
      "source": [
        "cm = confusion_matrix(np.argmax(y_test_1, axis=-1), y_pred=np.argmax(predictions, axis=-1))"
      ],
      "execution_count": null,
      "outputs": []
    },
    {
      "cell_type": "code",
      "metadata": {
        "id": "IdSHy_8xwFpF",
        "colab_type": "code",
        "colab": {
          "base_uri": "https://localhost:8080/",
          "height": 51
        },
        "outputId": "82fc83ba-b4a4-4c21-be17-03ffa36ea286"
      },
      "source": [
        "cm"
      ],
      "execution_count": null,
      "outputs": [
        {
          "output_type": "execute_result",
          "data": {
            "text/plain": [
              "array([[208,  33],\n",
              "       [ 51, 208]])"
            ]
          },
          "metadata": {
            "tags": []
          },
          "execution_count": 18
        }
      ]
    },
    {
      "cell_type": "code",
      "metadata": {
        "id": "OV6GimKYwG60",
        "colab_type": "code",
        "colab": {}
      },
      "source": [
        ""
      ],
      "execution_count": null,
      "outputs": []
    }
  ]
}